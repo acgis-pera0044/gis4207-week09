{
 "cells": [
  {
   "cell_type": "code",
   "execution_count": 1,
   "metadata": {},
   "outputs": [],
   "source": [
    "import arcpy"
   ]
  },
  {
   "cell_type": "code",
   "execution_count": 5,
   "metadata": {},
   "outputs": [
    {
     "name": "stdout",
     "output_type": "stream",
     "text": [
      "Name, Prov\n",
      "Barrie,ON\n",
      "Belleville,ON\n",
      "Berlin,ON\n",
      "Brampton,ON\n",
      "Brantford,ON\n",
      "Brockville,ON\n",
      "Burlington,ON\n",
      "Cambridge,ON\n",
      "Chatham,ON\n",
      "Cornwall,ON\n",
      "Eastview,ON\n",
      "Elliot Lake,ON\n",
      "Etobicoke,ON\n",
      "Fort William,ON\n",
      "Gloucester,ON\n",
      "Guelph,ON\n",
      "Hamilton,ON\n",
      "Hazeldean-March,ON\n",
      "Kanata,ON\n",
      "Kingston,ON\n",
      "Kitchener,ON\n",
      "London,ON\n",
      "Mississauga,ON\n",
      "Nanticoke,ON\n",
      "Nepean,ON\n",
      "Niagara Falls,ON\n",
      "North Bay,ON\n",
      "North York,ON\n",
      "Orillia,ON\n",
      "Oshawa,ON\n",
      "Ottawa,ON\n",
      "Owen Sound,ON\n",
      "Pembroke,ON\n",
      "Peterborough,ON\n",
      "Port Arthur,ON\n",
      "Port Colborne,ON\n",
      "St. Catharines,ON\n",
      "St. Thomas,ON\n",
      "Sarnia,ON\n",
      "Sarnia-Clearwater,ON\n",
      "Sault Ste. Marie,ON\n",
      "Scarborough,ON\n",
      "Stoney Creek,ON\n",
      "Stratford,ON\n",
      "Sudbury,ON\n",
      "The Lakehead,ON\n",
      "Thorold,ON\n",
      "Thunder Bay,ON\n",
      "Timmins,ON\n",
      "Timmins-Porcupine,ON\n",
      "Toronto,ON\n",
      "Toronto Junction,ON\n",
      "Trenton,ON\n",
      "Vanier,ON\n",
      "Vaughan,ON\n",
      "Waterloo,ON\n",
      "Welland,ON\n",
      "Windsor,ON\n",
      "Woodstock,ON\n",
      "York,ON\n",
      "There are 60 cities in the above list\n"
     ]
    }
   ],
   "source": [
    "list_provinces = ['NL', 'PE', 'NS', 'NB', 'QC', 'ON', 'MB', 'SK', 'AB', 'BC', 'YT', 'NT', 'NU']\n",
    "\n",
    "province = 'On'\n",
    "\n",
    "ws = r'..\\..\\..\\..\\data\\Canada'\n",
    "\n",
    "fc = 'Can_Mjr_Cities.shp'\n",
    "\n",
    "arcpy.env.workspace = ws\n",
    "\n",
    "fields = ['NAME', 'PROV']\n",
    "\n",
    "field = arcpy.AddFieldDelimiters(ws, fields[1].upper())\n",
    "\n",
    "where_clause = f\"{field} = '{province.upper()}'\"\n",
    "\n",
    "with arcpy.da.SearchCursor(fc, fields, where_clause) as cursor:\n",
    "    count = 0\n",
    "    print(f'{fields[0].capitalize()}, {fields[1].capitalize()}')\n",
    "    for row in cursor:\n",
    "        count += 1\n",
    "        print(f'{row[0]},{row[1]}')\n",
    "    print(f'There are {count} cities in the above list')\n"
   ]
  }
 ],
 "metadata": {
  "kernelspec": {
   "display_name": "gis4207",
   "language": "python",
   "name": "python3"
  },
  "language_info": {
   "codemirror_mode": {
    "name": "ipython",
    "version": 3
   },
   "file_extension": ".py",
   "mimetype": "text/x-python",
   "name": "python",
   "nbconvert_exporter": "python",
   "pygments_lexer": "ipython3",
   "version": "3.9.18"
  }
 },
 "nbformat": 4,
 "nbformat_minor": 2
}
